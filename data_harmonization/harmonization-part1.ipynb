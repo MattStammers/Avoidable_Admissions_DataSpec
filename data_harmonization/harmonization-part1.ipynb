{
 "cells": [
  {
   "cell_type": "code",
   "execution_count": null,
   "id": "5deaa25d-3336-45a2-9472-b25924461154",
   "metadata": {},
   "outputs": [],
   "source": [
    "%load_ext autoreload\n",
    "%autoreload 2"
   ]
  },
  {
   "cell_type": "markdown",
   "id": "020b5fe3-01df-4dae-9089-876695bf9616",
   "metadata": {},
   "source": [
    "# HDRUK Acute Admissions Feature Engineering Part 1\n",
    "\n",
    "This is an example using code available at https://github.com/lthtr-dst/hdruk_avoidable_admissions\n",
    "\n",
    "Under development and there are bound to be breaking changes and bugs. \n",
    "\n",
    "Please see commit history, ensure you have the latest clone of the repo, have updated your conda environment using the environment.yaml file.\n",
    "\n",
    "Please raise an issue if you find a bug or have a question.\n",
    "\n",
    "The synthetic data was generated using the SDV module - Synthetic Data Vault (https://github.com/sdv-dev/SDV) by @vvcb"
   ]
  },
  {
   "cell_type": "markdown",
   "id": "9eddf5d6-c2b9-4992-bdfa-80e56af0c130",
   "metadata": {},
   "source": [
    "## Admitted Care"
   ]
  },
  {
   "cell_type": "code",
   "execution_count": null,
   "id": "c06b5f11-7f5a-4929-beed-f6cff5812459",
   "metadata": {
    "tags": []
   },
   "outputs": [],
   "source": [
    "# Import Packages\n",
    "\n",
    "import numpy as np\n",
    "import pandas as pd\n",
    "\n",
    "import avoidable_admissions as aa\n",
    "from pandas_profiling import ProfileReport"
   ]
  },
  {
   "cell_type": "code",
   "execution_count": null,
   "id": "ba314eac-c1d2-44c5-837d-f6cace38833e",
   "metadata": {
    "tags": []
   },
   "outputs": [],
   "source": [
    "# Import Data. Typically df is used as a moniker for a dataframe. The dytype argument can be droped if you want (it coerces all the data to strings)\n",
    "\n",
    "df = pd.read_csv(\"synthetic_data/sdv_hdruk_admitted_care_synthetic_data.csv\")"
   ]
  },
  {
   "cell_type": "code",
   "execution_count": null,
   "id": "4d35b4cf-5afe-4bde-865b-e48afed3fe82",
   "metadata": {
    "tags": []
   },
   "outputs": [],
   "source": [
    "# Looking much better this time\n",
    "\n",
    "df.columns"
   ]
  },
  {
   "cell_type": "code",
   "execution_count": null,
   "id": "4bfa798e-a1c8-4b33-b321-89843e117a7c",
   "metadata": {
    "tags": []
   },
   "outputs": [],
   "source": [
    "# Lets create a copy\n",
    "\n",
    "dfa = df.copy()"
   ]
  },
  {
   "cell_type": "markdown",
   "id": "eb3f4a99-e927-4fdc-a6f9-d42672a9acb7",
   "metadata": {},
   "source": [
    "## First Validation"
   ]
  },
  {
   "cell_type": "code",
   "execution_count": null,
   "id": "44a1c8cd-feaf-4cc2-bf79-d002ea5eed96",
   "metadata": {
    "tags": []
   },
   "outputs": [],
   "source": [
    "# And run the first validation\n",
    "\n",
    "good, bad = aa.data.validate.validate_admitted_care_data(dfa)"
   ]
  },
  {
   "cell_type": "code",
   "execution_count": null,
   "id": "c07c794d-d95a-4a3d-be7d-35351694214e",
   "metadata": {
    "tags": []
   },
   "outputs": [],
   "source": [
    "# Now we can print the results\n",
    "\n",
    "print(f\"\"\"\n",
    "Total number of rows in input data   : {dfa.shape[0]}\n",
    "Number of rows that passed validation: {good.shape[0]}\n",
    "Number of rows that failed validation: {bad.shape[0]}\n",
    "\"\"\")"
   ]
  },
  {
   "cell_type": "code",
   "execution_count": null,
   "id": "5a918be6-1475-4ea8-97c7-accad096374d",
   "metadata": {
    "tags": []
   },
   "outputs": [],
   "source": [
    "# Here are our failure cases\n",
    "\n",
    "bad[[\"schema_context\", \"column\", \"check\", \"check_number\", \"failure_case\", \"index\"]]"
   ]
  },
  {
   "cell_type": "markdown",
   "id": "938e37cd-3b3c-4665-96eb-a7da43b667eb",
   "metadata": {},
   "source": [
    "## Feature Engineering"
   ]
  },
  {
   "cell_type": "code",
   "execution_count": null,
   "id": "b915bff4-c9cb-4bd2-b9a6-dd11125199ca",
   "metadata": {
    "tags": []
   },
   "outputs": [],
   "source": [
    "# Now we can try to engineer the features\n",
    "\n",
    "dfa_features = aa.features.build_features.build_admitted_care_features(good.copy())"
   ]
  },
  {
   "cell_type": "markdown",
   "id": "3d8ff857-fab3-4351-8873-9053c2407a15",
   "metadata": {},
   "source": [
    "## Second validation"
   ]
  },
  {
   "cell_type": "code",
   "execution_count": null,
   "id": "b4a7e9b8-2d6d-4c52-82dc-c290e2f0b0af",
   "metadata": {
    "tags": []
   },
   "outputs": [],
   "source": [
    "# Now we are in a position to try and re-run the validation - second run\n",
    "\n",
    "good, bad = aa.data.validate.validate_admitted_care_features(dfa_features)\n",
    "print(f\"\"\"\n",
    "Total number of rows in input data   : {dfa_features.shape[0]}\n",
    "Number of rows that passed validation: {good.shape[0]}\n",
    "Number of rows that failed validation: {bad.shape[0]}\n",
    "\"\"\")"
   ]
  },
  {
   "cell_type": "markdown",
   "id": "7af765a2-4046-49dd-b75c-ff6e1683265a",
   "metadata": {},
   "source": [
    "## Pandas Profiling\n",
    "\n",
    "We can now generate a pandas profiling report which allows us to visually assess the quality of our dataset at the click of a button before we try to do any analytical transformation"
   ]
  },
  {
   "cell_type": "code",
   "execution_count": null,
   "id": "e3f82388-8c3d-4d85-a5cc-02792fe6c568",
   "metadata": {
    "tags": []
   },
   "outputs": [],
   "source": [
    "# Now we have our good data we can build a profile report from it\n",
    "profile = ProfileReport(\n",
    "    good, title=\"Pandas Profiling Report\"\n",
    ")"
   ]
  },
  {
   "cell_type": "code",
   "execution_count": null,
   "id": "48f14544-5d0a-4c94-8b73-a3695d813649",
   "metadata": {
    "tags": []
   },
   "outputs": [],
   "source": [
    "# We can then display that report inline within the browser\n",
    "\n",
    "profile"
   ]
  },
  {
   "cell_type": "markdown",
   "id": "e77e6c17-82b7-4267-b17a-144bd3912d8a",
   "metadata": {},
   "source": [
    "# Harmonization Phase 2\n",
    "\n",
    "We are now in a good position to start work on the ED dataset"
   ]
  },
  {
   "cell_type": "code",
   "execution_count": null,
   "id": "13942e2c-0831-4118-bbd8-9642e6883813",
   "metadata": {},
   "outputs": [],
   "source": []
  }
 ],
 "metadata": {
  "kernelspec": {
   "display_name": "Python 3 (ipykernel)",
   "language": "python",
   "name": "python3"
  },
  "language_info": {
   "codemirror_mode": {
    "name": "ipython",
    "version": 3
   },
   "file_extension": ".py",
   "mimetype": "text/x-python",
   "name": "python",
   "nbconvert_exporter": "python",
   "pygments_lexer": "ipython3",
   "version": "3.10.0 (tags/v3.10.0:b494f59, Oct  4 2021, 19:00:18) [MSC v.1929 64 bit (AMD64)]"
  },
  "vscode": {
   "interpreter": {
    "hash": "67f309c84aef927e23370ac3f0eff32084ea4ac673a1eba0bd21453e4bffc4a7"
   }
  }
 },
 "nbformat": 4,
 "nbformat_minor": 5
}
